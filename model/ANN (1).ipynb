{
 "cells": [
  {
   "cell_type": "code",
   "execution_count": 1,
   "metadata": {},
   "outputs": [],
   "source": [
    "import numpy as np\n",
    "import pandas as pd\n",
    "import tensorflow as tf"
   ]
  },
  {
   "cell_type": "code",
   "execution_count": 2,
   "metadata": {},
   "outputs": [
    {
     "data": {
      "text/plain": [
       "'2.3.0'"
      ]
     },
     "execution_count": 2,
     "metadata": {},
     "output_type": "execute_result"
    }
   ],
   "source": [
    "tf.__version__"
   ]
  },
  {
   "cell_type": "code",
   "execution_count": 3,
   "metadata": {},
   "outputs": [],
   "source": [
    "#data preprocessing\n",
    "dataset = pd.read_csv('Churn_Modelling.csv')\n",
    "x = dataset.iloc[:, 3:-1].values\n",
    "y = dataset.iloc[:, -1].values"
   ]
  },
  {
   "cell_type": "code",
   "execution_count": 4,
   "metadata": {},
   "outputs": [
    {
     "name": "stdout",
     "output_type": "stream",
     "text": [
      "[[619 'France' 'Female' ... 1 1 101348.88]\n",
      " [608 'Spain' 'Female' ... 0 1 112542.58]\n",
      " [502 'France' 'Female' ... 1 0 113931.57]\n",
      " ...\n",
      " [709 'France' 'Female' ... 0 1 42085.58]\n",
      " [772 'Germany' 'Male' ... 1 0 92888.52]\n",
      " [792 'France' 'Female' ... 1 0 38190.78]]\n"
     ]
    }
   ],
   "source": [
    "print(x)"
   ]
  },
  {
   "cell_type": "code",
   "execution_count": 5,
   "metadata": {},
   "outputs": [
    {
     "name": "stdout",
     "output_type": "stream",
     "text": [
      "[1 0 1 ... 1 1 0]\n"
     ]
    }
   ],
   "source": [
    "print(y)"
   ]
  },
  {
   "cell_type": "code",
   "execution_count": 6,
   "metadata": {},
   "outputs": [],
   "source": [
    "#encoding categorical data\n",
    "from sklearn.preprocessing import LabelEncoder\n",
    "le = LabelEncoder()\n",
    "x[:, 2] = le.fit_transform(x[:, 2])"
   ]
  },
  {
   "cell_type": "code",
   "execution_count": 7,
   "metadata": {},
   "outputs": [
    {
     "name": "stdout",
     "output_type": "stream",
     "text": [
      "[[619 'France' 0 ... 1 1 101348.88]\n",
      " [608 'Spain' 0 ... 0 1 112542.58]\n",
      " [502 'France' 0 ... 1 0 113931.57]\n",
      " ...\n",
      " [709 'France' 0 ... 0 1 42085.58]\n",
      " [772 'Germany' 1 ... 1 0 92888.52]\n",
      " [792 'France' 0 ... 1 0 38190.78]]\n"
     ]
    }
   ],
   "source": [
    "print(x)"
   ]
  },
  {
   "cell_type": "code",
   "execution_count": 10,
   "metadata": {},
   "outputs": [],
   "source": [
    "#onehot encoding for the geography column (countries)\n",
    "from sklearn.preprocessing import OneHotEncoder\n",
    "from sklearn.compose import ColumnTransformer\n",
    "ct = ColumnTransformer(transformers = [('encoder', OneHotEncoder(), [1])], remainder = 'passthrough')\n",
    "x = np.array(ct.fit_transform(x))"
   ]
  },
  {
   "cell_type": "code",
   "execution_count": 11,
   "metadata": {},
   "outputs": [
    {
     "name": "stdout",
     "output_type": "stream",
     "text": [
      "[[1.0 0.0 0.0 ... 1 1 101348.88]\n",
      " [0.0 0.0 1.0 ... 0 1 112542.58]\n",
      " [1.0 0.0 0.0 ... 1 0 113931.57]\n",
      " ...\n",
      " [1.0 0.0 0.0 ... 0 1 42085.58]\n",
      " [0.0 1.0 0.0 ... 1 0 92888.52]\n",
      " [1.0 0.0 0.0 ... 1 0 38190.78]]\n"
     ]
    }
   ],
   "source": [
    "print(x)"
   ]
  },
  {
   "cell_type": "code",
   "execution_count": 12,
   "metadata": {},
   "outputs": [],
   "source": [
    "#splitting the data into training and test set\n",
    "from sklearn.model_selection import train_test_split"
   ]
  },
  {
   "cell_type": "code",
   "execution_count": 13,
   "metadata": {},
   "outputs": [],
   "source": [
    "x_train, x_test, y_train, y_test = train_test_split(x, y , test_size = 0.2, random_state = 0)"
   ]
  },
  {
   "cell_type": "code",
   "execution_count": 15,
   "metadata": {},
   "outputs": [],
   "source": [
    "#Feature scaling (important in deep learning)\n",
    "from sklearn.preprocessing import StandardScaler\n",
    "sc = StandardScaler()\n",
    "x_train = sc.fit_transform(x_train)\n",
    "x_test = sc.fit_transform(x_test)"
   ]
  },
  {
   "cell_type": "code",
   "execution_count": 16,
   "metadata": {},
   "outputs": [],
   "source": [
    "#Building the ANN"
   ]
  },
  {
   "cell_type": "code",
   "execution_count": 17,
   "metadata": {},
   "outputs": [],
   "source": [
    "ann = tf.keras.models.Sequential()"
   ]
  },
  {
   "cell_type": "code",
   "execution_count": 19,
   "metadata": {},
   "outputs": [],
   "source": [
    "#adding the first input layer\n",
    "ann.add(tf.keras.layers.Dense(units = 6, activation = 'relu')) #relu is the rectifier (threshold, hyperbolic tangent, rectifier and sigmoid)"
   ]
  },
  {
   "cell_type": "code",
   "execution_count": 20,
   "metadata": {},
   "outputs": [],
   "source": [
    "#adding the seconf input layer (its same like first)\n",
    "ann.add(tf.keras.layers.Dense(units = 6, activation = 'relu'))"
   ]
  },
  {
   "cell_type": "code",
   "execution_count": 21,
   "metadata": {},
   "outputs": [],
   "source": [
    "#Adding the output layer\n",
    "ann.add(tf.keras.layers.Dense(units = 1, activation = 'sigmoid'))"
   ]
  },
  {
   "cell_type": "code",
   "execution_count": 22,
   "metadata": {},
   "outputs": [],
   "source": [
    "#Training the ANN\n",
    "#Compiling the ANN\n",
    "ann.compile(optimizer = 'adam', loss='binary_crossentropy', metrics = ['accuracy']) #metrics is a list hence '[]'"
   ]
  },
  {
   "cell_type": "code",
   "execution_count": 23,
   "metadata": {},
   "outputs": [
    {
     "name": "stdout",
     "output_type": "stream",
     "text": [
      "Epoch 1/100\n",
      "250/250 [==============================] - 0s 1ms/step - loss: 0.5624 - accuracy: 0.7663\n",
      "Epoch 2/100\n",
      "250/250 [==============================] - 0s 834us/step - loss: 0.4610 - accuracy: 0.7993\n",
      "Epoch 3/100\n",
      "250/250 [==============================] - 0s 807us/step - loss: 0.4379 - accuracy: 0.8044\n",
      "Epoch 4/100\n",
      "250/250 [==============================] - 0s 951us/step - loss: 0.4275 - accuracy: 0.8091\n",
      "Epoch 5/100\n",
      "250/250 [==============================] - 0s 872us/step - loss: 0.4191 - accuracy: 0.8129\n",
      "Epoch 6/100\n",
      "250/250 [==============================] - 0s 815us/step - loss: 0.4117 - accuracy: 0.8224\n",
      "Epoch 7/100\n",
      "250/250 [==============================] - 0s 778us/step - loss: 0.4038 - accuracy: 0.8298\n",
      "Epoch 8/100\n",
      "250/250 [==============================] - 0s 790us/step - loss: 0.3935 - accuracy: 0.8332\n",
      "Epoch 9/100\n",
      "250/250 [==============================] - 0s 926us/step - loss: 0.3822 - accuracy: 0.8393\n",
      "Epoch 10/100\n",
      "250/250 [==============================] - 0s 961us/step - loss: 0.3718 - accuracy: 0.8475\n",
      "Epoch 11/100\n",
      "250/250 [==============================] - 0s 1ms/step - loss: 0.3631 - accuracy: 0.8506\n",
      "Epoch 12/100\n",
      "250/250 [==============================] - 0s 834us/step - loss: 0.3562 - accuracy: 0.8547\n",
      "Epoch 13/100\n",
      "250/250 [==============================] - 0s 802us/step - loss: 0.3508 - accuracy: 0.8589\n",
      "Epoch 14/100\n",
      "250/250 [==============================] - 0s 754us/step - loss: 0.3474 - accuracy: 0.8599\n",
      "Epoch 15/100\n",
      "250/250 [==============================] - 0s 949us/step - loss: 0.3446 - accuracy: 0.8606\n",
      "Epoch 16/100\n",
      "250/250 [==============================] - 0s 985us/step - loss: 0.3426 - accuracy: 0.8596\n",
      "Epoch 17/100\n",
      "250/250 [==============================] - 0s 926us/step - loss: 0.3418 - accuracy: 0.8600\n",
      "Epoch 18/100\n",
      "250/250 [==============================] - 0s 1ms/step - loss: 0.3400 - accuracy: 0.8608\n",
      "Epoch 19/100\n",
      "250/250 [==============================] - 0s 1ms/step - loss: 0.3395 - accuracy: 0.8604\n",
      "Epoch 20/100\n",
      "250/250 [==============================] - 0s 822us/step - loss: 0.3383 - accuracy: 0.8602\n",
      "Epoch 21/100\n",
      "250/250 [==============================] - 0s 794us/step - loss: 0.3377 - accuracy: 0.8610\n",
      "Epoch 22/100\n",
      "250/250 [==============================] - 0s 977us/step - loss: 0.3375 - accuracy: 0.8616\n",
      "Epoch 23/100\n",
      "250/250 [==============================] - 0s 1ms/step - loss: 0.3368 - accuracy: 0.8634\n",
      "Epoch 24/100\n",
      "250/250 [==============================] - 0s 838us/step - loss: 0.3363 - accuracy: 0.8625\n",
      "Epoch 25/100\n",
      "250/250 [==============================] - 0s 838us/step - loss: 0.3359 - accuracy: 0.8621\n",
      "Epoch 26/100\n",
      "250/250 [==============================] - 0s 898us/step - loss: 0.3355 - accuracy: 0.8614\n",
      "Epoch 27/100\n",
      "250/250 [==============================] - 0s 969us/step - loss: 0.3353 - accuracy: 0.8634\n",
      "Epoch 28/100\n",
      "250/250 [==============================] - 0s 902us/step - loss: 0.3354 - accuracy: 0.8627\n",
      "Epoch 29/100\n",
      "250/250 [==============================] - 0s 1ms/step - loss: 0.3346 - accuracy: 0.8612\n",
      "Epoch 30/100\n",
      "250/250 [==============================] - 0s 862us/step - loss: 0.3346 - accuracy: 0.8624\n",
      "Epoch 31/100\n",
      "250/250 [==============================] - 0s 838us/step - loss: 0.3345 - accuracy: 0.8634\n",
      "Epoch 32/100\n",
      "250/250 [==============================] - 0s 890us/step - loss: 0.3344 - accuracy: 0.8635\n",
      "Epoch 33/100\n",
      "250/250 [==============================] - 0s 949us/step - loss: 0.3339 - accuracy: 0.8654\n",
      "Epoch 34/100\n",
      "250/250 [==============================] - 0s 1ms/step - loss: 0.3341 - accuracy: 0.8636\n",
      "Epoch 35/100\n",
      "250/250 [==============================] - 0s 1ms/step - loss: 0.3336 - accuracy: 0.8656\n",
      "Epoch 36/100\n",
      "250/250 [==============================] - 0s 1ms/step - loss: 0.3336 - accuracy: 0.8654\n",
      "Epoch 37/100\n",
      "250/250 [==============================] - 0s 1ms/step - loss: 0.3331 - accuracy: 0.8645\n",
      "Epoch 38/100\n",
      "250/250 [==============================] - 0s 1ms/step - loss: 0.3332 - accuracy: 0.8639\n",
      "Epoch 39/100\n",
      "250/250 [==============================] - 0s 1ms/step - loss: 0.3332 - accuracy: 0.8641\n",
      "Epoch 40/100\n",
      "250/250 [==============================] - 0s 957us/step - loss: 0.3333 - accuracy: 0.8643\n",
      "Epoch 41/100\n",
      "250/250 [==============================] - 0s 1ms/step - loss: 0.3332 - accuracy: 0.8629\n",
      "Epoch 42/100\n",
      "250/250 [==============================] - 0s 1ms/step - loss: 0.3326 - accuracy: 0.8629\n",
      "Epoch 43/100\n",
      "250/250 [==============================] - 0s 1ms/step - loss: 0.3325 - accuracy: 0.8635\n",
      "Epoch 44/100\n",
      "250/250 [==============================] - 0s 850us/step - loss: 0.3325 - accuracy: 0.8629\n",
      "Epoch 45/100\n",
      "250/250 [==============================] - 0s 918us/step - loss: 0.3325 - accuracy: 0.8649\n",
      "Epoch 46/100\n",
      "250/250 [==============================] - 0s 1ms/step - loss: 0.3322 - accuracy: 0.8639\n",
      "Epoch 47/100\n",
      "250/250 [==============================] - 0s 1ms/step - loss: 0.3320 - accuracy: 0.8640\n",
      "Epoch 48/100\n",
      "250/250 [==============================] - 0s 770us/step - loss: 0.3323 - accuracy: 0.8652\n",
      "Epoch 49/100\n",
      "250/250 [==============================] - 0s 842us/step - loss: 0.3320 - accuracy: 0.8652\n",
      "Epoch 50/100\n",
      "250/250 [==============================] - 0s 1ms/step - loss: 0.3321 - accuracy: 0.8644\n",
      "Epoch 51/100\n",
      "250/250 [==============================] - 0s 1ms/step - loss: 0.3320 - accuracy: 0.8633: 0s - loss: 0.3283 - accu\n",
      "Epoch 52/100\n",
      "250/250 [==============================] - 0s 1ms/step - loss: 0.3318 - accuracy: 0.8637\n",
      "Epoch 53/100\n",
      "250/250 [==============================] - 0s 1ms/step - loss: 0.3320 - accuracy: 0.8644\n",
      "Epoch 54/100\n",
      "250/250 [==============================] - 0s 1ms/step - loss: 0.3320 - accuracy: 0.8635\n",
      "Epoch 55/100\n",
      "250/250 [==============================] - 0s 1ms/step - loss: 0.3320 - accuracy: 0.8654\n",
      "Epoch 56/100\n",
      "250/250 [==============================] - 0s 906us/step - loss: 0.3318 - accuracy: 0.8643\n",
      "Epoch 57/100\n",
      "250/250 [==============================] - 0s 1ms/step - loss: 0.3315 - accuracy: 0.8658\n",
      "Epoch 58/100\n",
      "250/250 [==============================] - 0s 718us/step - loss: 0.3316 - accuracy: 0.8650\n",
      "Epoch 59/100\n",
      "250/250 [==============================] - 0s 894us/step - loss: 0.3319 - accuracy: 0.8643\n",
      "Epoch 60/100\n",
      "250/250 [==============================] - 0s 945us/step - loss: 0.3315 - accuracy: 0.8635\n",
      "Epoch 61/100\n",
      "250/250 [==============================] - 0s 902us/step - loss: 0.3318 - accuracy: 0.8641\n",
      "Epoch 62/100\n",
      "250/250 [==============================] - 0s 902us/step - loss: 0.3310 - accuracy: 0.8651\n",
      "Epoch 63/100\n",
      "250/250 [==============================] - 0s 941us/step - loss: 0.3315 - accuracy: 0.8643\n",
      "Epoch 64/100\n",
      "250/250 [==============================] - 0s 934us/step - loss: 0.3315 - accuracy: 0.8643\n",
      "Epoch 65/100\n",
      "250/250 [==============================] - 0s 790us/step - loss: 0.3310 - accuracy: 0.8643\n",
      "Epoch 66/100\n",
      "250/250 [==============================] - 0s 770us/step - loss: 0.3312 - accuracy: 0.8637\n",
      "Epoch 67/100\n",
      "250/250 [==============================] - 0s 786us/step - loss: 0.3313 - accuracy: 0.8646\n",
      "Epoch 68/100\n",
      "250/250 [==============================] - 0s 710us/step - loss: 0.3312 - accuracy: 0.8650\n",
      "Epoch 69/100\n",
      "250/250 [==============================] - 0s 965us/step - loss: 0.3313 - accuracy: 0.8645\n",
      "Epoch 70/100\n",
      "250/250 [==============================] - 0s 726us/step - loss: 0.3311 - accuracy: 0.8644\n",
      "Epoch 71/100\n",
      "250/250 [==============================] - 0s 993us/step - loss: 0.3308 - accuracy: 0.8636\n",
      "Epoch 72/100\n",
      "250/250 [==============================] - 0s 718us/step - loss: 0.3308 - accuracy: 0.8654\n",
      "Epoch 73/100\n",
      "250/250 [==============================] - 0s 798us/step - loss: 0.3309 - accuracy: 0.8655\n",
      "Epoch 74/100\n",
      "250/250 [==============================] - 0s 698us/step - loss: 0.3308 - accuracy: 0.8645\n",
      "Epoch 75/100\n",
      "250/250 [==============================] - 0s 754us/step - loss: 0.3309 - accuracy: 0.8630\n",
      "Epoch 76/100\n",
      "250/250 [==============================] - 0s 802us/step - loss: 0.3309 - accuracy: 0.8645\n",
      "Epoch 77/100\n",
      "250/250 [==============================] - 0s 734us/step - loss: 0.3308 - accuracy: 0.8643\n",
      "Epoch 78/100\n",
      "250/250 [==============================] - 0s 1ms/step - loss: 0.3306 - accuracy: 0.8656\n",
      "Epoch 79/100\n",
      "250/250 [==============================] - 0s 806us/step - loss: 0.3308 - accuracy: 0.8645\n",
      "Epoch 80/100\n",
      "250/250 [==============================] - 0s 646us/step - loss: 0.3305 - accuracy: 0.8636\n",
      "Epoch 81/100\n",
      "250/250 [==============================] - 0s 570us/step - loss: 0.3307 - accuracy: 0.8637\n",
      "Epoch 82/100\n",
      "250/250 [==============================] - 0s 582us/step - loss: 0.3309 - accuracy: 0.8645\n",
      "Epoch 83/100\n",
      "250/250 [==============================] - 0s 562us/step - loss: 0.3310 - accuracy: 0.8651\n",
      "Epoch 84/100\n",
      "250/250 [==============================] - 0s 582us/step - loss: 0.3309 - accuracy: 0.8650\n",
      "Epoch 85/100\n",
      "250/250 [==============================] - 0s 650us/step - loss: 0.3304 - accuracy: 0.8645\n",
      "Epoch 86/100\n",
      "250/250 [==============================] - 0s 710us/step - loss: 0.3305 - accuracy: 0.8655\n",
      "Epoch 87/100\n",
      "250/250 [==============================] - 0s 570us/step - loss: 0.3308 - accuracy: 0.8656\n",
      "Epoch 88/100\n",
      "250/250 [==============================] - 0s 566us/step - loss: 0.3305 - accuracy: 0.8639\n",
      "Epoch 89/100\n",
      "250/250 [==============================] - 0s 594us/step - loss: 0.3305 - accuracy: 0.8655\n",
      "Epoch 90/100\n",
      "250/250 [==============================] - 0s 582us/step - loss: 0.3306 - accuracy: 0.8652\n",
      "Epoch 91/100\n",
      "250/250 [==============================] - 0s 570us/step - loss: 0.3305 - accuracy: 0.8634\n",
      "Epoch 92/100\n",
      "250/250 [==============================] - 0s 570us/step - loss: 0.3305 - accuracy: 0.8649\n",
      "Epoch 93/100\n",
      "250/250 [==============================] - 0s 582us/step - loss: 0.3304 - accuracy: 0.8650\n",
      "Epoch 94/100\n",
      "250/250 [==============================] - 0s 566us/step - loss: 0.3302 - accuracy: 0.8654\n",
      "Epoch 95/100\n",
      "250/250 [==============================] - 0s 570us/step - loss: 0.3303 - accuracy: 0.8658\n",
      "Epoch 96/100\n",
      "250/250 [==============================] - 0s 582us/step - loss: 0.3304 - accuracy: 0.8644\n",
      "Epoch 97/100\n",
      "250/250 [==============================] - 0s 562us/step - loss: 0.3300 - accuracy: 0.8662\n",
      "Epoch 98/100\n",
      "250/250 [==============================] - 0s 578us/step - loss: 0.3301 - accuracy: 0.8651\n",
      "Epoch 99/100\n",
      "250/250 [==============================] - 0s 574us/step - loss: 0.3304 - accuracy: 0.8633\n",
      "Epoch 100/100\n",
      "250/250 [==============================] - 0s 598us/step - loss: 0.3302 - accuracy: 0.8649\n"
     ]
    },
    {
     "data": {
      "text/plain": [
       "<tensorflow.python.keras.callbacks.History at 0x2499b44b048>"
      ]
     },
     "execution_count": 23,
     "metadata": {},
     "output_type": "execute_result"
    }
   ],
   "source": [
    "#Training the ANN on the training set\n",
    "ann.fit(x_train, y_train, batch_size = 32, epochs = 100)\n"
   ]
  },
  {
   "cell_type": "code",
   "execution_count": 30,
   "metadata": {},
   "outputs": [
    {
     "name": "stdout",
     "output_type": "stream",
     "text": [
      "[[0.03777212]]\n"
     ]
    }
   ],
   "source": [
    "print(ann.predict(sc.transform([[1,0, 0, 600, 1, 40, 3, 60000, 2, 1, 1, 50000]])))"
   ]
  },
  {
   "cell_type": "code",
   "execution_count": 32,
   "metadata": {},
   "outputs": [
    {
     "name": "stdout",
     "output_type": "stream",
     "text": [
      "[[0 0]\n",
      " [0 1]\n",
      " [0 0]\n",
      " ...\n",
      " [0 0]\n",
      " [0 0]\n",
      " [0 0]]\n"
     ]
    }
   ],
   "source": [
    "#predicting the test set result\n",
    "y_pred = ann.predict(x_test)\n",
    "y_pred = (y_pred > 0.5)\n",
    "print(np.concatenate((y_pred.reshape(len(y_pred),1), y_test.reshape(len(y_test),1)),1))"
   ]
  },
  {
   "cell_type": "code",
   "execution_count": 34,
   "metadata": {},
   "outputs": [],
   "source": [
    "from sklearn.metrics import accuracy_score, confusion_matrix"
   ]
  },
  {
   "cell_type": "code",
   "execution_count": 35,
   "metadata": {},
   "outputs": [
    {
     "name": "stdout",
     "output_type": "stream",
     "text": [
      "[[1572  312]\n",
      " [  23   93]]\n"
     ]
    },
    {
     "data": {
      "text/plain": [
       "0.8325"
      ]
     },
     "execution_count": 35,
     "metadata": {},
     "output_type": "execute_result"
    }
   ],
   "source": [
    "cm = confusion_matrix(y_pred, y_test)\n",
    "print(cm)\n",
    "accuracy_score(y_pred, y_test)"
   ]
  },
  {
   "cell_type": "code",
   "execution_count": null,
   "metadata": {},
   "outputs": [],
   "source": []
  }
 ],
 "metadata": {
  "kernelspec": {
   "display_name": "Python 3",
   "language": "python",
   "name": "python3"
  },
  "language_info": {
   "codemirror_mode": {
    "name": "ipython",
    "version": 3
   },
   "file_extension": ".py",
   "mimetype": "text/x-python",
   "name": "python",
   "nbconvert_exporter": "python",
   "pygments_lexer": "ipython3",
   "version": "3.7.6"
  }
 },
 "nbformat": 4,
 "nbformat_minor": 4
}
